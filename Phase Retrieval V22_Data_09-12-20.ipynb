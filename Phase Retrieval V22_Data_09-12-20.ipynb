{
 "cells": [
  {
   "cell_type": "markdown",
   "metadata": {},
   "source": [
    "# Test Notebook\n",
    "\n",
    "Data: 9.12.20"
   ]
  },
  {
   "cell_type": "code",
   "execution_count": null,
   "metadata": {},
   "outputs": [],
   "source": [
    "%pylab inline\n",
    "#plt.style.use('dark_background')"
   ]
  },
  {
   "cell_type": "code",
   "execution_count": null,
   "metadata": {},
   "outputs": [],
   "source": [
    "import pyopencl as cl\n",
    "cl_platform = cl.get_platforms()[0]\n",
    "cl_device = cl_platform.get_devices(cl.device_type.GPU)[0]\n",
    "cl_context = cl.Context([cl_device])\n",
    "cl_queue = cl.CommandQueue(cl_context)"
   ]
  },
  {
   "cell_type": "code",
   "execution_count": null,
   "metadata": {},
   "outputs": [],
   "source": [
    "from pyopencl.tools import MemoryPool, ImmediateAllocator\n",
    "cl_allocator = None #MemoryPool(ImmediateAllocator(cl_queue))"
   ]
  },
  {
   "cell_type": "code",
   "execution_count": null,
   "metadata": {},
   "outputs": [],
   "source": [
    "import copy\n",
    "import importlib\n",
    "import os.path"
   ]
  },
  {
   "cell_type": "code",
   "execution_count": null,
   "metadata": {},
   "outputs": [],
   "source": [
    "import fieldretriever\n",
    "importlib.reload(fieldretriever)"
   ]
  },
  {
   "cell_type": "code",
   "execution_count": null,
   "metadata": {},
   "outputs": [],
   "source": [
    "%run dataloader"
   ]
  },
  {
   "cell_type": "code",
   "execution_count": null,
   "metadata": {},
   "outputs": [],
   "source": [
    "def create_circular_mask(shape, center=(0,0), radius=1.):\n",
    "    \n",
    "    x = linspace(-1,1,shape[1])\n",
    "    y = linspace(-1,1,shape[0])\n",
    "                   \n",
    "    X, Y = np.meshgrid(x,y, sparse=True)\n",
    "    R2 = np.square(X - center[0]) + np.square(Y - center[1])\n",
    "    mask = R2 <= radius**2\n",
    "    return mask#.astype(float)"
   ]
  },
  {
   "cell_type": "markdown",
   "metadata": {},
   "source": [
    "# MESSUNGEN VOM ..... "
   ]
  },
  {
   "cell_type": "markdown",
   "metadata": {},
   "source": [
    "## Data Loader"
   ]
  },
  {
   "cell_type": "code",
   "execution_count": null,
   "metadata": {},
   "outputs": [],
   "source": [
    "folder = 'Z:/groups/Tweezers/data/2020-12-09/'\n",
    "\n",
    "DLoader = DataLoader(folder = folder, name='Forces')"
   ]
  },
  {
   "cell_type": "markdown",
   "metadata": {},
   "source": [
    "### Load dark frame images"
   ]
  },
  {
   "cell_type": "code",
   "execution_count": null,
   "metadata": {},
   "outputs": [],
   "source": [
    "nr_bg = 21\n",
    "bfp_bg, __ = DLoader.load_bg_dark_images(nr = nr_bg)\n"
   ]
  },
  {
   "cell_type": "markdown",
   "metadata": {},
   "source": [
    "## Mask"
   ]
  },
  {
   "cell_type": "markdown",
   "metadata": {},
   "source": [
    "### Loading focal mask and flat field data"
   ]
  },
  {
   "cell_type": "code",
   "execution_count": null,
   "metadata": {},
   "outputs": [],
   "source": [
    "m_nr_mask = 23\n",
    "I_mask, I_spots, pos_spots, I0 = DLoader.load_I0_and_focal_mask_data(nr = m_nr_mask)"
   ]
  },
  {
   "cell_type": "code",
   "execution_count": null,
   "metadata": {},
   "outputs": [],
   "source": [
    "imshow((I0-1*bfp_bg), vmin=0.01, vmax=None)\n",
    "colorbar()"
   ]
  },
  {
   "cell_type": "code",
   "execution_count": null,
   "metadata": {},
   "outputs": [],
   "source": [
    "I0[:,512].mean()/I0[512,:].mean()"
   ]
  },
  {
   "cell_type": "code",
   "execution_count": null,
   "metadata": {},
   "outputs": [],
   "source": []
  },
  {
   "cell_type": "code",
   "execution_count": null,
   "metadata": {},
   "outputs": [],
   "source": [
    "figure()\n",
    "imshow(I_mask.T[:,::-1] + 1*I_spots.T[:,::-1])\n",
    "colorbar()"
   ]
  },
  {
   "cell_type": "code",
   "execution_count": null,
   "metadata": {},
   "outputs": [],
   "source": [
    "%run create_mask"
   ]
  },
  {
   "cell_type": "code",
   "execution_count": null,
   "metadata": {},
   "outputs": [],
   "source": [
    "M = CreateMaskFocal(img_mask = I_mask, img_spots = I_spots, pos_spots_holo = pos_spots, field_shape = (1024,) * 2)\n",
    "\n",
    "M.create_mask(sigma = 0.3, gamma = .6, dpi = 80, figsize = (12,3)) #sigma is most important to change if not all pixels are detected!"
   ]
  },
  {
   "cell_type": "code",
   "execution_count": null,
   "metadata": {},
   "outputs": [],
   "source": [
    "fourier_mask = M.mask.copy()\n",
    "fourier_plane_size = M.field_size\n",
    "fourier_plane_shape = M.field_shape\n",
    "print('Fourier plane size = %.3f mm' %(fourier_plane_size[0]*1e3))"
   ]
  },
  {
   "cell_type": "markdown",
   "metadata": {},
   "source": [
    "## circular mask for $I_0$"
   ]
  },
  {
   "cell_type": "code",
   "execution_count": null,
   "metadata": {},
   "outputs": [],
   "source": [
    "# I0 mit Hintergrundsubtraktion und runder Maske\n",
    "palette = copy.copy(plt.cm.viridis)\n",
    "palette.set_over('r', 1.0)\n",
    "palette.set_under('w', 0.0)\n",
    "\n",
    "mask_I0 = create_circular_mask(I0.shape, radius=0.910, center=(0.001, 0.00)) #08.04.20\n",
    "\n",
    "I0_t_masked = clip ( (I0 - bfp_bg)*mask_I0, 0 , None)\n",
    "\n",
    "figure(dpi = 150)\n",
    "imshow( I0_t_masked, vmin=0.01, cmap=palette)\n",
    "axis('off')\n",
    "colorbar()"
   ]
  },
  {
   "cell_type": "code",
   "execution_count": null,
   "metadata": {},
   "outputs": [],
   "source": []
  },
  {
   "cell_type": "markdown",
   "metadata": {},
   "source": [
    "# Fieldretrieval for a single BFP image"
   ]
  },
  {
   "cell_type": "markdown",
   "metadata": {},
   "source": [
    "### load BFP and SLM pattern"
   ]
  },
  {
   "cell_type": "code",
   "execution_count": null,
   "metadata": {},
   "outputs": [],
   "source": [
    "nr_meas = 15 # WH 16 und empty 17\n",
    "nr_img = 10\n",
    "bfp = DLoader.load_bfp(nr_meas, nr_img)"
   ]
  },
  {
   "cell_type": "code",
   "execution_count": null,
   "metadata": {},
   "outputs": [],
   "source": [
    "figure(dpi = 100)\n",
    "imshow(bfp, cmap = cm.gray, interpolation = 'lanczos', vmin = 0, vmax = 25)\n",
    "axis('off')"
   ]
  },
  {
   "cell_type": "markdown",
   "metadata": {},
   "source": [
    "### Load data"
   ]
  },
  {
   "cell_type": "code",
   "execution_count": null,
   "metadata": {},
   "outputs": [],
   "source": [
    "# load data\n",
    "\n",
    "bfp, phase_slm, phase_slm0 = DLoader.load_data(nr_meas, idx=nr_img, \n",
    "                                                  #normalize_exposure = False\n",
    "                                                 )\n",
    "mask_bfp = create_circular_mask(bfp.shape, radius = 1.02)\n",
    "imshow((bfp-bfp_bg)*mask_bfp, vmin=0.01, cmap=palette)\n",
    "colorbar()\n",
    "\n",
    "trap_pos = DLoader.load_trap_positions(nr_meas, nr_img)\n",
    "\n",
    "# select active traps, scale positions, swap x/y\n",
    "trap_pos = trap_pos[0:-1, [1,0,2]] * 1e-6 * 1.173   #TODO: z-scaling different?\n",
    "\n",
    "mask_bfp = create_circular_mask(bfp.shape)\n",
    "bfp_measured = ((bfp-bfp_bg)*mask_bfp).astype(float32)\n",
    "\n"
   ]
  },
  {
   "cell_type": "markdown",
   "metadata": {},
   "source": [
    "### Retrieve field"
   ]
  },
  {
   "cell_type": "code",
   "execution_count": null,
   "metadata": {},
   "outputs": [],
   "source": [
    "scale_I0 =  1.2*0.934 #compensating that the fringer (model of slm behaviour) already accounts for reduced diffraction efficiency\n",
    "\n",
    "PSF_detector = fieldretriever.double_gaussian_kernel(\n",
    "    N=1024, sigma_1=.9, sigma_2=40., p2=0.12).astype(float32)\n",
    "\n",
    "R = fieldretriever.FieldRetrieverGPU(cl_context=cl_context, cl_queue=cl_queue, cl_allocator=cl_allocator,\n",
    "              slm_phase = phase_slm,\n",
    "              slm_phase0 = phase_slm0,\n",
    "              I0 = I0_t_masked * scale_I0,\n",
    "              R0 = 1.02,\n",
    "              fourier_plane_size = fourier_plane_size,\n",
    "              fourier_plane_shape = fourier_plane_shape,\n",
    "              object_plane_shape = fourier_plane_shape,\n",
    "              fourier_plane_mask = fourier_mask,\n",
    "              detector_psf = PSF_detector)\n",
    "\n",
    "R.init_all(pos=trap_pos, patch_size = 5e-6)\n"
   ]
  },
  {
   "cell_type": "code",
   "execution_count": null,
   "metadata": {},
   "outputs": [],
   "source": [
    "figure(dpi = 100)\n",
    "imshow(log10(R.object_multiareafield.field.intensity),vmin = 0.1, vmax = 8, zorder = 0)\n",
    "title('object plane')"
   ]
  },
  {
   "cell_type": "code",
   "execution_count": null,
   "metadata": {},
   "outputs": [],
   "source": [
    "iterations = 0\n",
    "stepsize = 100\n",
    "momentum = 0.85 #0.8\n",
    "retrieved_empty, retrieved_empty_no_transmission = R.retrieve_field(bfp_measured, \n",
    "                               iterations = iterations, stepsize = stepsize, momentum = momentum)\n",
    "\n",
    "print('-------   if scale I0 good this should be about 1 --------')\n",
    "#print(bfp_measured.sum()/retrieved_empty.sum())\n",
    "print(bfp_measured.sum()/retrieved_empty.sum())"
   ]
  },
  {
   "cell_type": "code",
   "execution_count": null,
   "metadata": {},
   "outputs": [],
   "source": [
    "iterations = 100\n",
    "stepsize = 100 \n",
    "momentum = 0.85\n",
    "\n",
    "retrieved0, retrieved_no_transmission = R.retrieve_field(bfp_measured, \n",
    "                               iterations = iterations, stepsize = stepsize, momentum = momentum)"
   ]
  },
  {
   "cell_type": "code",
   "execution_count": null,
   "metadata": {},
   "outputs": [],
   "source": [
    "log0 = R.log.copy()\n",
    "plot(log0)"
   ]
  },
  {
   "cell_type": "code",
   "execution_count": null,
   "metadata": {},
   "outputs": [],
   "source": [
    "retrieved = retrieved0#_c\n",
    "original = (bfp - bfp_bg)*R.mask_bfp\n",
    "\n",
    "print(retrieved.sum())\n",
    "print(original.sum())\n",
    "print(1/retrieved.sum()*original.sum())\n",
    "\n",
    "v_min = 0\n",
    "v_max = max(original.max(), retrieved.max())\n",
    "v_max_residuum = 0.2 * v_max\n",
    "\n",
    "r, c = slice(None, None), slice(None, None)\n",
    "#r, c = slice(400,600), slice(400,600)\n",
    "\n",
    "fig, (a1,a2,a3) = subplots(1,3, figsize=(12,4))\n",
    "a1.imshow(original[r,c], vmin = v_min, vmax = v_max)\n",
    "a2.imshow(retrieved[r,c], vmin = v_min, vmax = v_max)\n",
    "a3.imshow((original - retrieved)[r,c], vmin = -v_max_residuum, vmax = v_max_residuum, cmap = cm.RdBu_r)\n",
    "\n",
    "\n",
    "fig.tight_layout()"
   ]
  },
  {
   "cell_type": "code",
   "execution_count": null,
   "metadata": {},
   "outputs": [],
   "source": [
    "K = 512\n",
    "s0 = slice(None, K)\n",
    "s1 = slice(K, None)\n",
    "s00 = s0, s0\n",
    "s01 = s0, s1\n",
    "s10 = s1, s0\n",
    "s11 = s1, s1\n",
    "\n",
    "d = original.copy()\n",
    "# d = zeros_like(original) # for checking\n",
    "d[s01] = retrieved[s01]\n",
    "#d[s10] = retrieved[s10]\n",
    "xp, yp = [], []\n",
    "for n in range(512, 1024,16)[::2]:\n",
    "    s = slice(n, n+16), s0\n",
    "    d[s] = retrieved[s]\n",
    "    xp.extend([0, K-.5, NaN, 0, K-.5, NaN])\n",
    "    yp.extend([n-.5, n-.5, NaN, n+16-.5, n+16-.5, NaN])\n",
    "    \n",
    "d[s11] = (original - retrieved)[s11]*-2 + v_max/2\n",
    "\n",
    "figure(dpi=100, figsize=(10,10))\n",
    "imshow(d, vmin=0, vmax=0.8*v_max, cmap = plt.cm.RdBu_r, interpolation='lanczos')\n",
    "plot([0, 1024, NaN, 511.5, 511.5], [511.5, 511.5, NaN, 0, 1024], 'w-', lw=.5, alpha=.5)\n",
    "plot(xp, yp, 'w-', lw=.5, alpha=.5)\n",
    "#axis('off')\n",
    "\n",
    "xlim(200, 800)\n",
    "ylim(700, 300)\n",
    "#axis('image')"
   ]
  },
  {
   "cell_type": "code",
   "execution_count": null,
   "metadata": {},
   "outputs": [],
   "source": [
    "R.calculate_individual_farfields( just_intesities = True)\n",
    "#R_c.calculate_individual_farfields()"
   ]
  },
  {
   "cell_type": "code",
   "execution_count": null,
   "metadata": {},
   "outputs": [],
   "source": [
    "# ind farfield comparison\n",
    "ind_bfps = DLoader.load_bfps_single_trap(nr = nr_meas, idx = nr_img)\n",
    "v_max = 0.4*ind_bfps.max()\n",
    "\n",
    "fig, ax = subplots(2,len(R.object_subfields_0), sharex=True, sharey=True, squeeze=True, tight_layout = True)\n",
    "for i, bfps in enumerate(ind_bfps):\n",
    "    a = ax[:,i]\n",
    "    a[0].imshow(R.individual_farfield_intensities[i], vmin=0, vmax=1/ind_bfps.shape[0]*0.85*v_max)    \n",
    "    im = a[1].imshow(bfps, vmin=0, vmax=v_max)\n",
    "    for aa in a:\n",
    "        aa.axis('off')\n",
    "#fig.subplots_adjust(right=0.8)\n",
    "#cbar_ax = fig.add_axes([0.85, 0.15, 0.05, 0.7])\n",
    "#fig.colorbar(im, cax=cbar_ax)"
   ]
  },
  {
   "cell_type": "code",
   "execution_count": null,
   "metadata": {},
   "outputs": [],
   "source": []
  },
  {
   "cell_type": "code",
   "execution_count": null,
   "metadata": {},
   "outputs": [],
   "source": [
    "# calculate force from retrieved individual bfps"
   ]
  },
  {
   "cell_type": "code",
   "execution_count": null,
   "metadata": {},
   "outputs": [],
   "source": [
    "%run force"
   ]
  },
  {
   "cell_type": "code",
   "execution_count": null,
   "metadata": {},
   "outputs": [],
   "source": [
    "C = CalculateForce(R0 = R.R0, scale_au_to_pN = 1/45000)"
   ]
  },
  {
   "cell_type": "code",
   "execution_count": null,
   "metadata": {},
   "outputs": [],
   "source": [
    "F_ind = array(([C.calc_force(I) for I in R.individual_farfield_intensities]))"
   ]
  },
  {
   "cell_type": "code",
   "execution_count": null,
   "metadata": {},
   "outputs": [],
   "source": [
    "F_ind"
   ]
  }
 ],
 "metadata": {
  "kernelspec": {
   "display_name": "Python 3",
   "language": "python",
   "name": "python3"
  },
  "language_info": {
   "codemirror_mode": {
    "name": "ipython",
    "version": 3
   },
   "file_extension": ".py",
   "mimetype": "text/x-python",
   "name": "python",
   "nbconvert_exporter": "python",
   "pygments_lexer": "ipython3",
   "version": "3.7.9"
  }
 },
 "nbformat": 4,
 "nbformat_minor": 4
}
