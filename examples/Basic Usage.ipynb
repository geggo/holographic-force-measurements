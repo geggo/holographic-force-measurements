{
 "cells": [
  {
   "cell_type": "markdown",
   "metadata": {},
   "source": [
    "# Basic usage of holographic force measurement software"
   ]
  },
  {
   "cell_type": "markdown",
   "metadata": {},
   "source": [
    "## Initialization"
   ]
  },
  {
   "cell_type": "code",
   "execution_count": null,
   "metadata": {},
   "outputs": [],
   "source": [
    "%pylab inline"
   ]
  },
  {
   "cell_type": "code",
   "execution_count": null,
   "metadata": {},
   "outputs": [],
   "source": [
    "import holoforce"
   ]
  },
  {
   "cell_type": "code",
   "execution_count": null,
   "metadata": {},
   "outputs": [],
   "source": [
    "holoforce.__version__"
   ]
  },
  {
   "cell_type": "markdown",
   "metadata": {},
   "source": [
    "### Configure GPU\n",
    "\n",
    "`holoforce` uses GPU acceleration via OpenCL. It requires the packages `pyopencl` and [gpyfft](https://github.com/geggo/gpyfft)\n",
    "\n",
    "Select GPU device"
   ]
  },
  {
   "cell_type": "code",
   "execution_count": null,
   "metadata": {},
   "outputs": [],
   "source": [
    "import pyopencl as cl\n",
    "cl_platform = cl.get_platforms()[0]  # use first platform\n",
    "cl_device = cl_platform.get_devices(cl.device_type.GPU)[0]  # use first GPU found\n",
    "\n",
    "cl_device"
   ]
  },
  {
   "cell_type": "code",
   "execution_count": null,
   "metadata": {},
   "outputs": [],
   "source": [
    "cl_context = cl.Context([cl_device])\n",
    "cl_queue = cl.CommandQueue(cl_context)\n",
    "\n",
    "from pyopencl.tools import MemoryPool, ImmediateAllocator\n",
    "cl_allocator = MemoryPool(ImmediateAllocator(cl_queue))"
   ]
  },
  {
   "cell_type": "markdown",
   "metadata": {},
   "source": [
    "## Load measurement data"
   ]
  },
  {
   "cell_type": "markdown",
   "metadata": {},
   "source": [
    "Data from measurement with 3 µm silica microspheres."
   ]
  },
  {
   "cell_type": "code",
   "execution_count": null,
   "metadata": {},
   "outputs": [],
   "source": [
    "with load('data/Data_single_image_with_empty.npz') as d:\n",
    "    # images intermediate focal plane for calibration of aperture placement\n",
    "    img_mask = d['img_mask']\n",
    "    img_spots = d['img_spots']\n",
    "    spot_positions = d['spot_positions']\n",
    "\n",
    "    # measured ingoing intensity distribution on SLM\n",
    "    I0 = d['I0']\n",
    "\n",
    "    # background image for back focal plane\n",
    "    bg_bfp = d['bg_bfp'] \n",
    "\n",
    "    #positions of traps in object plane\n",
    "    trap_positions = d['trap_positions']\n",
    "    # measured back focal plane intensity\n",
    "    bfp = d['bfp']\n",
    "    # measured back focal plane intensity for empty trap\n",
    "    bfp_empty = d['bfp_empty'] \n",
    "\n",
    "    #phase pattern on slm for choosen trap configuration\n",
    "    phase_slm = d['phase_slm'] \n",
    "    #phase pattern containing only aberration correction pattern\n",
    "    phase_slm0 = d['phase_slm0'] "
   ]
  },
  {
   "cell_type": "markdown",
   "metadata": {},
   "source": [
    "## Measurement of aperture placement in intermediate focal plane\n",
    "\n",
    "Use images from auxiliary camera of the intermediate focal plane to find position of aperture. Requires two images:\n",
    "* image of four spots to determine optical axis, scaling and rotation\n",
    "* image with diffuser pattern (random phase) to completely illuminate focal plane\n"
   ]
  },
  {
   "cell_type": "code",
   "execution_count": null,
   "metadata": {},
   "outputs": [],
   "source": [
    "import holoforce.create_mask"
   ]
  },
  {
   "cell_type": "code",
   "execution_count": null,
   "metadata": {},
   "outputs": [],
   "source": [
    "M = holoforce.create_mask.CreateMaskFocal(img_mask = img_mask, img_spots = img_spots, pos_spots_holo = spot_positions, field_shape = (1024,) * 2)\n",
    "M.create_mask(sigma = 0.3, gamma = .6, dpi = 80, figsize = (12,3)) #sigma is most important to change if not all pixels are detected!"
   ]
  },
  {
   "cell_type": "code",
   "execution_count": null,
   "metadata": {},
   "outputs": [],
   "source": [
    "fourier_mask = M.mask #.copy()\n",
    "fourier_plane_size = M.field_size\n",
    "fourier_plane_shape = M.field_shape\n",
    "print('Fourier plane size = %.3f mm' %(fourier_plane_size[0]*1e3))"
   ]
  },
  {
   "cell_type": "markdown",
   "metadata": {},
   "source": [
    "## Preprocess illumination pattern"
   ]
  },
  {
   "cell_type": "code",
   "execution_count": null,
   "metadata": {},
   "outputs": [],
   "source": [
    "# function to create circular mask\n",
    "def create_circular_mask(shape, center=(0,0), radius=1.02):\n",
    "    \n",
    "    x = linspace(-1,1,shape[1])\n",
    "    y = linspace(-1,1,shape[0])\n",
    "                   \n",
    "    X, Y = np.meshgrid(x,y, sparse=True)\n",
    "    R2 = np.square(X - center[0]) + np.square(Y - center[1])\n",
    "    mask = R2 <= radius**2\n",
    "    return mask#.astype(float)"
   ]
  },
  {
   "cell_type": "code",
   "execution_count": null,
   "metadata": {},
   "outputs": [],
   "source": [
    "#apply a mask to the intensity distribution I0 in order to discard stray light\n",
    "mask_I0 = create_circular_mask(I0.shape, radius=0.915, center=(0.001, 0.00))\n",
    "I0_masked = clip ( (I0 - bg_bfp)*mask_I0, 0 , None)\n",
    "\n",
    "# compensate for reduced diffraction efficiency for calibration data I0\n",
    "scale_I0 = 1.11\n",
    "I0_masked *= scale_I0\n",
    "\n",
    "figure()\n",
    "imshow( I0_masked, vmin=0.01, \n",
    "       #cmap=palette\n",
    "      )\n",
    "axis('off')"
   ]
  },
  {
   "cell_type": "markdown",
   "metadata": {},
   "source": [
    "## Preprocess back focal plane data"
   ]
  },
  {
   "cell_type": "code",
   "execution_count": null,
   "metadata": {},
   "outputs": [],
   "source": [
    "# multiply measured bfp with mask to discard stray light\n",
    "mask_bfp = create_circular_mask(bfp.shape)\n",
    "bfp_measured = ((bfp-bg_bfp)*mask_bfp).astype(float32)\n",
    "bfp_measured_empty = ((bfp_empty-bg_bfp)*mask_bfp).astype(float32)"
   ]
  },
  {
   "cell_type": "markdown",
   "metadata": {},
   "source": [
    "## Fieldretrieval for a single BFP image"
   ]
  },
  {
   "cell_type": "markdown",
   "metadata": {},
   "source": [
    "Select active trap indices"
   ]
  },
  {
   "cell_type": "code",
   "execution_count": null,
   "metadata": {},
   "outputs": [],
   "source": [
    "# active traps\n",
    "active_trap_idx = [0,1]  # indices of active traps\n",
    "trap_pos = trap_positions[active_trap_idx, :] * 1e-6 #in um"
   ]
  },
  {
   "cell_type": "markdown",
   "metadata": {},
   "source": [
    "### Retrieve field"
   ]
  },
  {
   "cell_type": "code",
   "execution_count": null,
   "metadata": {},
   "outputs": [],
   "source": [
    "# Initialization\n",
    "\n",
    "PSF_detector = holoforce.fieldretriever.double_gaussian_kernel(\n",
    "    N=1024, sigma_1=.9, sigma_2=40., p2=0.12).astype(float32)\n",
    "\n",
    "R = holoforce.fieldretriever.FieldRetrieverGPU(cl_context=cl_context, cl_queue=cl_queue, cl_allocator=cl_allocator,\n",
    "              slm_phase = phase_slm,\n",
    "              slm_phase0 = phase_slm0,\n",
    "              I0 = I0_masked,\n",
    "              R0 = 1.02,\n",
    "              fourier_plane_size = fourier_plane_size,\n",
    "              fourier_plane_shape = fourier_plane_shape,\n",
    "              object_plane_shape = fourier_plane_shape,\n",
    "              fourier_plane_mask = fourier_mask,\n",
    "              detector_psf = PSF_detector)\n",
    "\n",
    "R.init_all(pos=trap_pos, patch_size = 5e-6)"
   ]
  },
  {
   "cell_type": "code",
   "execution_count": null,
   "metadata": {},
   "outputs": [],
   "source": [
    "imshow(log10(R.object_multiareafield.field.intensity),vmin = 0.1, vmax = 8, cmap = cm.gray_r)\n",
    "title('reference field in object plane\\nlogarithmic colormap')"
   ]
  },
  {
   "cell_type": "markdown",
   "metadata": {},
   "source": [
    "### Check for energy conservation\n",
    "\n",
    "Check that total power in measured back focal plane (`bfp_measured`) equals ingoing power, otherwise adjust `scale_I0` above."
   ]
  },
  {
   "cell_type": "code",
   "execution_count": null,
   "metadata": {},
   "outputs": [],
   "source": [
    "#calculate initial back focal plane intensity\n",
    "retrieved_init = R.retrieve_field(bfp_measured, iterations = 0)[0]\n",
    "\n",
    "print('ratio = %.2f'%(bfp_measured.sum()/retrieved_init.sum()))"
   ]
  },
  {
   "cell_type": "code",
   "execution_count": null,
   "metadata": {},
   "outputs": [],
   "source": [
    "#iterative field retrieval\n",
    "retrieved, retrieved_no_transmission = R.retrieve_field(bfp_measured, iterations = 50, stepsize = 500, momentum = 0.85)"
   ]
  },
  {
   "cell_type": "code",
   "execution_count": null,
   "metadata": {},
   "outputs": [],
   "source": [
    "#plot loss function vs. number of iterations\n",
    "plot(R.log)\n",
    "xlabel('iteration')\n",
    "ylabel('residuum')"
   ]
  },
  {
   "cell_type": "code",
   "execution_count": null,
   "metadata": {},
   "outputs": [],
   "source": [
    "#compare measured and retrieved BFP data\n",
    "\n",
    "retrieved = retrieved\n",
    "original = bfp_measured\n",
    "\n",
    "v_min = 0\n",
    "v_max = max(original.max(), retrieved.max())\n",
    "v_max_residuum = 0.2 * v_max\n",
    "\n",
    "r, c = slice(None, None), slice(None, None)\n",
    "#r, c = slice(400,600), slice(400,600)\n",
    "\n",
    "fig, (a1,a2,a3) = subplots(1,3, figsize=(12,4))\n",
    "a1.imshow(original[r,c], vmin = v_min, vmax = v_max)\n",
    "a2.imshow(retrieved[r,c], vmin = v_min, vmax = v_max)\n",
    "a3.imshow((original - retrieved)[r,c], vmin = -v_max_residuum, vmax = v_max_residuum, cmap = cm.RdBu_r)\n",
    "a1.set_title('measured bfp')\n",
    "a2.set_title('retrieved bfp')\n",
    "a3.set_title('difference')\n",
    "fig.tight_layout()"
   ]
  },
  {
   "cell_type": "code",
   "execution_count": null,
   "metadata": {},
   "outputs": [],
   "source": [
    "K = 512\n",
    "s0 = slice(None, K)\n",
    "s1 = slice(K, None)\n",
    "s00 = s0, s0\n",
    "s01 = s0, s1\n",
    "s10 = s1, s0\n",
    "s11 = s1, s1\n",
    "\n",
    "d = original.copy()\n",
    "d[s01] = retrieved[s01]\n",
    "xp, yp = [], []\n",
    "for n in range(512, 1024,16)[::2]:\n",
    "    s = slice(n, n+16), s0\n",
    "    d[s] = retrieved[s]\n",
    "    xp.extend([0, K-.5, NaN, 0, K-.5, NaN])\n",
    "    yp.extend([n-.5, n-.5, NaN, n+16-.5, n+16-.5, NaN])\n",
    "    \n",
    "d[s11] = (original - retrieved)[s11]*-2 + v_max/2\n",
    "\n",
    "figure()\n",
    "imshow(d, vmin=0, vmax=0.8*v_max, cmap = plt.cm.RdBu_r, interpolation='lanczos')\n",
    "plot([0, 1024, NaN, 511.5, 511.5], [511.5, 511.5, NaN, 0, 1024], 'w-', lw=.5, alpha=.5)\n",
    "plot(xp, yp, 'w-', lw=.5, alpha=.5)\n",
    "axis('off')\n",
    "\n",
    "xlim(200, 800)\n",
    "ylim(700, 300)\n",
    "title('comparison retrieved and original bfp')"
   ]
  },
  {
   "cell_type": "code",
   "execution_count": null,
   "metadata": {},
   "outputs": [],
   "source": [
    "# propagate indiviudal retrieved patches\n",
    "R.calculate_individual_farfields(just_intesities = True)\n",
    "ind_bfps = R.individual_farfield_intensities.copy()"
   ]
  },
  {
   "cell_type": "code",
   "execution_count": null,
   "metadata": {},
   "outputs": [],
   "source": [
    "# individual farfield intensity\n",
    "v_max = 1.4*R.individual_farfield_intensities[0].max()\n",
    "\n",
    "fig, ax = subplots(1,len(R.object_subfields_0), sharex=True, sharey=True, squeeze=True, tight_layout = True)\n",
    "for i, ind_bfp in enumerate(ind_bfps):\n",
    "    ax[i].imshow(ind_bfp, vmin=0, vmax=0.85*v_max)    \n",
    "    ax[i].axis('off')\n",
    "ax[0].set_title('bfp trap 1')\n",
    "ax[1].set_title('bfp trap 2')"
   ]
  },
  {
   "cell_type": "markdown",
   "metadata": {},
   "source": [
    "### Retrieval for BFP with empty traps (for ingoing moementum flux F_0)"
   ]
  },
  {
   "cell_type": "code",
   "execution_count": null,
   "metadata": {},
   "outputs": [],
   "source": [
    "retrieved_empty = R.retrieve_field(bfp_measured_empty, iterations = 30, stepsize = 500, momentum = 0.85)[0]"
   ]
  },
  {
   "cell_type": "code",
   "execution_count": null,
   "metadata": {},
   "outputs": [],
   "source": [
    "R.calculate_individual_farfields( just_intesities = True)\n",
    "ind_bfps_empty = R.individual_farfield_intensities.copy()"
   ]
  },
  {
   "cell_type": "code",
   "execution_count": null,
   "metadata": {},
   "outputs": [],
   "source": [
    "# individual farfield intensity\n",
    "v_max = 1.4*R.individual_farfield_intensities[0].max()\n",
    "\n",
    "fig, ax = subplots(1,len(R.object_subfields_0), sharex=True, sharey=True, squeeze=True, tight_layout = True)\n",
    "for i, ind_bfp in enumerate(ind_bfps_empty):\n",
    "    ax[i].imshow(ind_bfp, vmin=0, vmax=0.85*v_max)    \n",
    "    ax[i].axis('off')\n",
    "ax[0].set_title('empty bfp trap 1')\n",
    "ax[1].set_title('empty bfp trap 2')"
   ]
  },
  {
   "cell_type": "markdown",
   "metadata": {},
   "source": [
    "## calculate force from retrieved individual back focal plane data"
   ]
  },
  {
   "cell_type": "code",
   "execution_count": null,
   "metadata": {},
   "outputs": [],
   "source": [
    "import holoforce.force"
   ]
  },
  {
   "cell_type": "code",
   "execution_count": null,
   "metadata": {},
   "outputs": [],
   "source": [
    "C = holoforce.force.CalculateForce(R0 = R.R0, scale_au_to_pN = 1/45000)"
   ]
  },
  {
   "cell_type": "code",
   "execution_count": null,
   "metadata": {},
   "outputs": [],
   "source": [
    "F_ind = array(([C.calc_force(I) for I in ind_bfps]))\n",
    "F_ind_0 = array(([C.calc_force(I) for I in ind_bfps_empty]))\n",
    "F_ind_e = F_ind-F_ind_0"
   ]
  },
  {
   "cell_type": "code",
   "execution_count": null,
   "metadata": {},
   "outputs": [],
   "source": [
    "print(r'Forces trap 1 = (%.2f, %.2f, %.2f) pN'%(F_ind_e[0,0],F_ind_e[0,1], F_ind_e[0,2]))\n",
    "print(r'Forces trap 2 = (%.2f, %.2f, %.2f) pN'%(F_ind_e[1,0],F_ind_e[1,1], F_ind_e[1,2]))"
   ]
  }
 ],
 "metadata": {
  "kernelspec": {
   "display_name": "Python 3",
   "language": "python",
   "name": "python3"
  },
  "language_info": {
   "codemirror_mode": {
    "name": "ipython",
    "version": 3
   },
   "file_extension": ".py",
   "mimetype": "text/x-python",
   "name": "python",
   "nbconvert_exporter": "python",
   "pygments_lexer": "ipython3",
   "version": "3.7.9"
  }
 },
 "nbformat": 4,
 "nbformat_minor": 4
}
